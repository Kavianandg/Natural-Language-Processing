{
 "cells": [
  {
   "cell_type": "markdown",
   "metadata": {},
   "source": [
    "<h1 style=\"color:blue;\" style=\"font-family:georgia;\"><i><b>CSE6060</b></i></h1>\n",
    "<h1 style=\"color:blue;\" style=\"font-family:georgia;\"><i>Statistical Natural Language Processing</i></h1>\n",
    "\n",
    "<h2>NLP - தமிழ் </h2>\n",
    "<h3>Name : Kavianand G</h3>\n",
    "<h3>Reg. No. : 19MAI0050</h3>\n",
    "<h3>Date : 27 – June – 2020</h3>\n"
   ]
  },
  {
   "cell_type": "markdown",
   "metadata": {},
   "source": [
    "<h1 style=\"color:red;\" style=\"font-family:georgia;\"><i> Indic NLP Library</i></h1>"
   ]
  },
  {
   "cell_type": "markdown",
   "metadata": {},
   "source": [
    "      The library provides the following functionalities:\n",
    "\n",
    "            Text Normalization\n",
    "            Script Information\n",
    "            Tokenization\n",
    "            Word Segmentation\n",
    "            Script Conversion\n",
    "            Romanization\n",
    "            Indicization\n",
    "            Transliteration\n",
    "            Translation"
   ]
  },
  {
   "cell_type": "code",
   "execution_count": 1,
   "metadata": {},
   "outputs": [],
   "source": [
    "# The path to the local git repo for Indic NLP library\n",
    "INDIC_NLP_LIB_HOME=r\"C:\\Users\\kavianand\\Documents\\src\\indic_nlp_library\"\n",
    "\n",
    "# The path to the local git repo for Indic NLP Resources\n",
    "INDIC_NLP_RESOURCES=r\"C:\\Users\\kavianand\\Documents\\src\\indic_nlp_resources\""
   ]
  },
  {
   "cell_type": "code",
   "execution_count": 2,
   "metadata": {},
   "outputs": [],
   "source": [
    "import sys\n",
    "sys.path.append(r'{}\\src'.format(INDIC_NLP_LIB_HOME))"
   ]
  },
  {
   "cell_type": "code",
   "execution_count": 3,
   "metadata": {},
   "outputs": [],
   "source": [
    "from indicnlp import common\n",
    "common.set_resources_path(INDIC_NLP_RESOURCES)"
   ]
  },
  {
   "cell_type": "code",
   "execution_count": 4,
   "metadata": {},
   "outputs": [],
   "source": [
    "from indicnlp import loader\n",
    "loader.load()"
   ]
  },
  {
   "cell_type": "code",
   "execution_count": 5,
   "metadata": {},
   "outputs": [
    {
     "name": "stdout",
     "output_type": "stream",
     "text": [
      "\"தமிழ் இலக்கியம் இரண்டாயிரம் ஆண்டுகளுக்கு மேலான தொடர்ச்சி கொண்ட உலகின் சிறந்த இலக்கியங்களில் ஒன்று. வாழ்வின் பல்வேறு கூறுகளை தமிழ் இலக்கியங்கள் இயம்புகின்றன. தமிழ் இலக்கியத்தில் வெண்பா, குறள், புதுக்கவிதை, கட்டுரை, பழமொழி, தொண்ணூற்றாறு வகை சிற்றிலக்கியங்கள் என பல வடிவங்கள் உள்ளன. தமிழில் வாய்மொழி இலக்கியங்களும் முக்கிய இடம் வகிக்கின்றன.\n"
     ]
    }
   ],
   "source": [
    "data=\"\"\"\"தமிழ் இலக்கியம் இரண்டாயிரம் ஆண்டுகளுக்கு மேலான தொடர்ச்சி கொண்ட உலகின் சிறந்த இலக்கியங்களில் ஒன்று. வாழ்வின் பல்வேறு கூறுகளை தமிழ் இலக்கியங்கள் இயம்புகின்றன. தமிழ் இலக்கியத்தில் வெண்பா, குறள், புதுக்கவிதை, கட்டுரை, பழமொழி, தொண்ணூற்றாறு வகை சிற்றிலக்கியங்கள் என பல வடிவங்கள் உள்ளன. தமிழில் வாய்மொழி இலக்கியங்களும் முக்கிய இடம் வகிக்கின்றன.\"\"\"\n",
    "\n",
    "print(data)"
   ]
  },
  {
   "cell_type": "markdown",
   "metadata": {},
   "source": [
    "## Text Normalization"
   ]
  },
  {
   "cell_type": "code",
   "execution_count": 6,
   "metadata": {},
   "outputs": [
    {
     "name": "stdout",
     "output_type": "stream",
     "text": [
      "\"தமிழ் இலக்கியம் இரண்டாயிரம் ஆண்டுகளுக்கு மேலான தொடர்ச்சி கொண்ட உலகின் சிறந்த இலக்கியங்களில் ஒன்று. வாழ்வின் பல்வேறு கூறுகளை தமிழ் இலக்கியங்கள் இயம்புகின்றன. தமிழ் இலக்கியத்தில் வெண்பா, குறள், புதுக்கவிதை, கட்டுரை, பழமொழி, தொண்ணூற்றாறு வகை சிற்றிலக்கியங்கள் என பல வடிவங்கள் உள்ளன. தமிழில் வாய்மொழி இலக்கியங்களும் முக்கிய இடம் வகிக்கின்றன.\n",
      "\n",
      "Before normalization\n",
      "\" த ம ி ழ ்   இ ல க ் க ி ய ம ்   இ ர ண ் ட ா ய ி ர ம ்   ஆ ண ் ட ு க ள ு க ் க ு   ம ே ல ா ன   த ொ ட ர ் ச ் ச ி   க ொ ண ் ட   உ ல க ி ன ்   ச ி ற ந ் த   இ ல க ் க ி ய ங ் க ள ி ல ்   ஒ ன ் ற ு .   வ ா ழ ் வ ி ன ்   ப ல ் வ ே ற ு   க ூ ற ு க ள ை   த ம ி ழ ்   இ ல க ் க ி ய ங ் க ள ்   இ ய ம ் ப ு க ி ன ் ற ன .   த ம ி ழ ்   இ ல க ் க ி ய த ் த ி ல ்   வ ெ ண ் ப ா ,   க ு ற ள ் ,   ப ு த ு க ் க வ ி த ை ,   க ட ் ட ு ர ை ,   ப ழ ம ொ ழ ி ,   த ொ ண ் ண ூ ற ் ற ா ற ு   வ க ை   ச ி ற ் ற ி ல க ் க ி ய ங ் க ள ்   எ ன   ப ல   வ ட ி வ ங ் க ள ்   உ ள ் ள ன .   த ம ி ழ ி ல ்   வ ா ய ் ம ொ ழ ி   இ ல க ் க ி ய ங ் க ள ு ம ்   ம ு க ் க ி ய   இ ட ம ்   வ க ி க ் க ி ன ் ற ன .\n",
      "Length: 338\n",
      "\n",
      "After normalization\n",
      "\" த ம ி ழ ்   இ ல க ் க ி ய ம ்   இ ர ண ் ட ா ய ி ர ம ்   ஆ ண ் ட ு க ள ு க ் க ு   ம ே ல ா ன   த ொ ட ர ் ச ் ச ி   க ொ ண ் ட   உ ல க ி ன ்   ச ி ற ந ் த   இ ல க ் க ி ய ங ் க ள ி ல ்   ஒ ன ் ற ு .   வ ா ழ ் வ ி ன ்   ப ல ் வ ே ற ு   க ூ ற ு க ள ை   த ம ி ழ ்   இ ல க ் க ி ய ங ் க ள ்   இ ய ம ் ப ு க ி ன ் ற ன .   த ம ி ழ ்   இ ல க ் க ி ய த ் த ி ல ்   வ ெ ண ் ப ா ,   க ு ற ள ் ,   ப ு த ு க ் க வ ி த ை ,   க ட ் ட ு ர ை ,   ப ழ ம ொ ழ ி ,   த ொ ண ் ண ூ ற ் ற ா ற ு   வ க ை   ச ி ற ் ற ி ல க ் க ி ய ங ் க ள ்   எ ன   ப ல   வ ட ி வ ங ் க ள ்   உ ள ் ள ன .   த ம ி ழ ி ல ்   வ ா ய ் ம ொ ழ ி   இ ல க ் க ி ய ங ் க ள ு ம ்   ம ு க ் க ி ய   இ ட ம ்   வ க ி க ் க ி ன ் ற ன .\n",
      "Length: 338\n"
     ]
    }
   ],
   "source": [
    "from indicnlp.normalize.indic_normalize import IndicNormalizerFactory\n",
    "\n",
    "input_text= data\n",
    "\n",
    "factory=IndicNormalizerFactory()\n",
    "normalizer=factory.get_normalizer(\"ta\")\n",
    "output_text=normalizer.normalize(input_text)\n",
    "\n",
    "print(input_text)\n",
    "print()\n",
    "\n",
    "print('Before normalization')\n",
    "print(' '.join([ c for c in input_text ] ))\n",
    "print('Length: {}'.format(len(input_text)))\n",
    "print()    \n",
    "print('After normalization')\n",
    "print(' '.join([ c for c in output_text ] ))\n",
    "print('Length: {}'.format(len(output_text)))    \n"
   ]
  },
  {
   "cell_type": "markdown",
   "metadata": {},
   "source": [
    "## Sentence Tokenization / Sentence Splitter"
   ]
  },
  {
   "cell_type": "code",
   "execution_count": 7,
   "metadata": {},
   "outputs": [
    {
     "name": "stdout",
     "output_type": "stream",
     "text": [
      "\n",
      " \"தமிழ் இலக்கியம் இரண்டாயிரம் ஆண்டுகளுக்கு மேலான தொடர்ச்சி கொண்ட உலகின் சிறந்த இலக்கியங்களில் ஒன்று.\n",
      "\n",
      " வாழ்வின் பல்வேறு கூறுகளை தமிழ் இலக்கியங்கள் இயம்புகின்றன.\n",
      "\n",
      " தமிழ் இலக்கியத்தில் வெண்பா, குறள், புதுக்கவிதை, கட்டுரை, பழமொழி, தொண்ணூற்றாறு வகை சிற்றிலக்கியங்கள் என பல வடிவங்கள் உள்ளன.\n",
      "\n",
      " தமிழில் வாய்மொழி இலக்கியங்களும் முக்கிய இடம் வகிக்கின்றன.\n"
     ]
    }
   ],
   "source": [
    "from indicnlp.tokenize import sentence_tokenize\n",
    "\n",
    "string = data\n",
    "sentences=sentence_tokenize.sentence_split(string, lang='ta')\n",
    "for t in sentences:\n",
    "    print(\"\\n\",t)"
   ]
  },
  {
   "cell_type": "markdown",
   "metadata": {},
   "source": [
    "## Word Tokenization"
   ]
  },
  {
   "cell_type": "code",
   "execution_count": 8,
   "metadata": {},
   "outputs": [
    {
     "name": "stdout",
     "output_type": "stream",
     "text": [
      "\n",
      "Input String: \"தமிழ் இலக்கியம் இரண்டாயிரம் ஆண்டுகளுக்கு மேலான தொடர்ச்சி கொண்ட உலகின் சிறந்த இலக்கியங்களில் ஒன்று. வாழ்வின் பல்வேறு கூறுகளை தமிழ் இலக்கியங்கள் இயம்புகின்றன. தமிழ் இலக்கியத்தில் வெண்பா, குறள், புதுக்கவிதை, கட்டுரை, பழமொழி, தொண்ணூற்றாறு வகை சிற்றிலக்கியங்கள் என பல வடிவங்கள் உள்ளன. தமிழில் வாய்மொழி இலக்கியங்களும் முக்கிய இடம் வகிக்கின்றன.\n",
      "\n",
      "Tokens: \n",
      "\"\n",
      "தமிழ்\n",
      "இலக்கியம்\n",
      "இரண்டாயிரம்\n",
      "ஆண்டுகளுக்கு\n",
      "மேலான\n",
      "தொடர்ச்சி\n",
      "கொண்ட\n",
      "உலகின்\n",
      "சிறந்த\n",
      "இலக்கியங்களில்\n",
      "ஒன்று\n",
      ".\n",
      "வாழ்வின்\n",
      "பல்வேறு\n",
      "கூறுகளை\n",
      "தமிழ்\n",
      "இலக்கியங்கள்\n",
      "இயம்புகின்றன\n",
      ".\n",
      "தமிழ்\n",
      "இலக்கியத்தில்\n",
      "வெண்பா\n",
      ",\n",
      "குறள்\n",
      ",\n",
      "புதுக்கவிதை\n",
      ",\n",
      "கட்டுரை\n",
      ",\n",
      "பழமொழி\n",
      ",\n",
      "தொண்ணூற்றாறு\n",
      "வகை\n",
      "சிற்றிலக்கியங்கள்\n",
      "என\n",
      "பல\n",
      "வடிவங்கள்\n",
      "உள்ளன\n",
      ".\n",
      "தமிழில்\n",
      "வாய்மொழி\n",
      "இலக்கியங்களும்\n",
      "முக்கிய\n",
      "இடம்\n",
      "வகிக்கின்றன\n",
      ".\n"
     ]
    }
   ],
   "source": [
    "from indicnlp.tokenize import indic_tokenize \n",
    "from indicnlp.tokenize import indic_detokenize  \n",
    "\n",
    "string=data\n",
    "\n",
    "print('\\nInput String: {}'.format(string))\n",
    "print('\\nTokens: ')\n",
    "for t in indic_tokenize.trivial_tokenize(string): \n",
    "    print(t)"
   ]
  },
  {
   "cell_type": "markdown",
   "metadata": {},
   "source": [
    "## Syllabification"
   ]
  },
  {
   "cell_type": "code",
   "execution_count": 9,
   "metadata": {},
   "outputs": [
    {
     "name": "stdout",
     "output_type": "stream",
     "text": [
      "Syllabification (Approximation)\n",
      "\n",
      "சி ட்டு க்கு ரு வி   ம னி த   கு டி யி ரு ப்பு ட ன்   வ லு வா க த்   தொ ட ர்பு டை ய து   ஆ கு ம்ி\n"
     ]
    }
   ],
   "source": [
    "from indicnlp.syllable import  syllabifier\n",
    "\n",
    "text ='சிட்டுக்குருவி மனித குடியிருப்புடன் வலுவாகத் தொடர்புடையது ஆகும்ி'\n",
    "lang='ta'\n",
    "\n",
    "syl_word = (' '.join(syllabifier.orthographic_syllabify(text,lang)))\n",
    "print(\"Syllabification (Approximation)\\n\")\n",
    "print(syl_word)## Transliteration"
   ]
  },
  {
   "cell_type": "markdown",
   "metadata": {},
   "source": [
    "## Morphological Analyser"
   ]
  },
  {
   "cell_type": "code",
   "execution_count": 10,
   "metadata": {},
   "outputs": [],
   "source": [
    "from indicnlp.morph import unsupervised_morph \n",
    "from indicnlp import common\n",
    "\n",
    "analyzer=unsupervised_morph.UnsupervisedMorphAnalyzer('ta')## Syllabification"
   ]
  },
  {
   "cell_type": "code",
   "execution_count": 11,
   "metadata": {},
   "outputs": [
    {
     "name": "stdout",
     "output_type": "stream",
     "text": [
      "['புத்துணர்ச்சி', 'யான']\n"
     ]
    }
   ],
   "source": [
    "string = 'புத்துணர்ச்சியான'\n",
    "\n",
    "analyzes_tokens = analyzer.morph_analyze_document(string.split(' '))\n",
    "print(analyzes_tokens)"
   ]
  },
  {
   "cell_type": "code",
   "execution_count": 12,
   "metadata": {
    "scrolled": true
   },
   "outputs": [
    {
     "name": "stdout",
     "output_type": "stream",
     "text": [
      "சிட்டுக்குருவி\n",
      "மனித\n",
      "குடியிருப்பு\n",
      "டன்\n",
      "வலுவாக\n",
      "த்\n",
      "தொடர்புடைய\n",
      "து\n",
      "ஆகும்\n",
      "ி\n"
     ]
    }
   ],
   "source": [
    "text ='சிட்டுக்குருவி மனித குடியிருப்புடன் வலுவாகத் தொடர்புடையது ஆகும்ி'\n",
    "\n",
    "analyzes_tokens=analyzer.morph_analyze_document(text.split(' '))\n",
    "\n",
    "for w in analyzes_tokens: \n",
    "    print(w)"
   ]
  },
  {
   "cell_type": "markdown",
   "metadata": {},
   "source": [
    "## POS Tagging - தமிழ்"
   ]
  },
  {
   "cell_type": "code",
   "execution_count": 13,
   "metadata": {},
   "outputs": [],
   "source": [
    "from rippletagger.tagger import Tagger\n",
    "\n",
    "def pos_tag_tamil(query):\n",
    "    tagger = Tagger(language=\"tam\")\n",
    "    posTagger = tagger.tag(query)\n",
    "    return(posTagger)"
   ]
  },
  {
   "cell_type": "code",
   "execution_count": 14,
   "metadata": {},
   "outputs": [
    {
     "name": "stdout",
     "output_type": "stream",
     "text": [
      "[('சிட்டுக்குருவி', 'NOUN'), ('மனித', 'PROPN'), ('குடியிருப்புடன்', 'NOUN'), ('வலுவாகத்', 'PROPN'), ('தொடர்புடையது', 'VERB'), ('ஆகும்ி', 'VERB')]\n"
     ]
    }
   ],
   "source": [
    "query ='சிட்டுக்குருவி மனித குடியிருப்புடன் வலுவாகத் தொடர்புடையது ஆகும்ி'\n",
    "tamil_tag = pos_tag_tamil(query)\n",
    "print(tamil_tag)"
   ]
  },
  {
   "cell_type": "code",
   "execution_count": 15,
   "metadata": {},
   "outputs": [
    {
     "name": "stdout",
     "output_type": "stream",
     "text": [
      "[('தமிழ்', 'PROPN'), ('இலக்கியம்', 'NOUN'), ('இரண்டாயிரம்', 'NOUN'), ('ஆண்டுகளுக்கு', 'NOUN'), ('மேலான', 'ADJ'), ('தொடர்ச்சி', 'NOUN'), ('கொண்ட', 'ADP'), ('உலகின்', 'NOUN'), ('சிறந்த', 'ADJ'), ('இலக்கியங்களில்', 'NOUN'), ('ஒன்று.', 'NOUN'), ('வாழ்வின்', 'NOUN'), ('பல்வேறு', 'ADJ'), ('கூறுகளை', 'NOUN'), ('தமிழ்', 'PROPN'), ('இலக்கியங்கள்', 'NOUN'), ('இயம்புகின்றன.', 'NOUN'), ('தமிழ்', 'PROPN'), ('இலக்கியத்தில்', 'NOUN'), ('வெண்பா,', 'NOUN'), ('குறள்,', 'NOUN'), ('புதுக்கவிதை,', 'NOUN'), ('கட்டுரை,', 'NOUN'), ('பழமொழி,', 'NOUN'), ('தொண்ணூற்றாறு', 'NOUN'), ('வகை', 'NOUN'), ('சிற்றிலக்கியங்கள்', 'NOUN'), ('என', 'PART'), ('பல', 'ADJ'), ('வடிவங்கள்', 'NOUN'), ('உள்ளன.', 'NOUN'), ('தமிழில்', 'NOUN'), ('வாய்மொழி', 'NOUN'), ('இலக்கியங்களும்', 'ADJ'), ('முக்கிய', 'ADJ'), ('இடம்', 'ADP'), ('வகிக்கின்றன.', 'VERB')]\n"
     ]
    }
   ],
   "source": [
    "query = \"தமிழ் இலக்கியம் இரண்டாயிரம் ஆண்டுகளுக்கு மேலான தொடர்ச்சி கொண்ட உலகின் சிறந்த இலக்கியங்களில் ஒன்று. வாழ்வின் பல்வேறு கூறுகளை தமிழ் இலக்கியங்கள் இயம்புகின்றன. தமிழ் இலக்கியத்தில் வெண்பா, குறள், புதுக்கவிதை, கட்டுரை, பழமொழி, தொண்ணூற்றாறு வகை சிற்றிலக்கியங்கள் என பல வடிவங்கள் உள்ளன. தமிழில் வாய்மொழி இலக்கியங்களும் முக்கிய இடம் வகிக்கின்றன.\"\n",
    "tamil_tag = pos_tag_tamil(query)\n",
    "print(tamil_tag)"
   ]
  },
  {
   "cell_type": "markdown",
   "metadata": {},
   "source": [
    "## StopWords - தமிழ்"
   ]
  },
  {
   "cell_type": "code",
   "execution_count": 16,
   "metadata": {},
   "outputs": [
    {
     "name": "stdout",
     "output_type": "stream",
     "text": [
      "ஒரு\n",
      "என்று\n",
      "மற்றும்\n",
      "இந்த\n",
      "இது\n",
      "என்ற\n",
      "கொண்டு\n",
      "என்பது\n",
      "பல\n",
      "ஆகும்\n",
      "அல்லது\n",
      "அவர்\n",
      "நான்\n",
      "உள்ள\n",
      "அந்த\n",
      "இவர்\n",
      "என\n",
      "முதல்\n",
      "என்ன\n",
      "இருந்து\n",
      "சில\n",
      "என்\n",
      "போன்ற\n",
      "வேண்டும்\n",
      "வந்து\n",
      "இதன்\n",
      "அது\n",
      "அவன்\n",
      "தான்\n",
      "பலரும்\n",
      "என்னும்\n",
      "மேலும்\n",
      "பின்னர்\n",
      "கொண்ட\n",
      "இருக்கும்\n",
      "தனது\n",
      "உள்ளது\n",
      "போது\n",
      "என்றும்\n",
      "அதன்\n",
      "தன்\n",
      "பிறகு\n",
      "அவர்கள்\n",
      "வரை\n",
      "அவள்\n",
      "நீ\n",
      "ஆகிய\n",
      "இருந்தது\n",
      "உள்ளன\n",
      "வந்த\n",
      "இருந்த\n",
      "மிகவும்\n",
      "இங்கு\n",
      "மீது\n",
      "ஓர்\n",
      "இவை\n",
      "இந்தக்\n",
      "பற்றி\n",
      "வரும்\n",
      "வேறு\n",
      "இரு\n",
      "இதில்\n",
      "போல்\n",
      "இப்போது\n",
      "அவரது\n",
      "மட்டும்\n",
      "இந்தப்\n",
      "எனும்\n",
      "மேல்\n",
      "பின்\n",
      "சேர்ந்த\n",
      "ஆகியோர்\n",
      "எனக்கு\n",
      "இன்னும்\n",
      "அந்தப்\n",
      "அன்று\n",
      "ஒரே\n",
      "மிக\n",
      "அங்கு\n",
      "பல்வேறு\n",
      "விட்டு\n",
      "பெரும்\n",
      "அதை\n",
      "பற்றிய\n",
      "உன்\n",
      "அதிக\n",
      "அந்தக்\n",
      "பேர்\n",
      "இதனால்\n",
      "அவை\n",
      "அதே\n",
      "ஏன்\n",
      "முறை\n",
      "யார்\n",
      "என்பதை\n",
      "எல்லாம்\n",
      "மட்டுமே\n",
      "இங்கே\n",
      "அங்கே\n",
      "இடம்\n",
      "இடத்தில்\n",
      "அதில்\n",
      "நாம்\n",
      "அதற்கு\n",
      "எனவே\n",
      "பிற\n",
      "சிறு\n",
      "மற்ற\n",
      "விட\n",
      "எந்த\n",
      "எனவும்\n",
      "எனப்படும்\n",
      "எனினும்\n",
      "அடுத்த\n",
      "இதனை\n",
      "இதை\n",
      "கொள்ள\n",
      "இந்தத்\n",
      "இதற்கு\n",
      "அதனால்\n",
      "தவிர\n",
      "போல\n",
      "வரையில்\n",
      "சற்று\n",
      "எனக்\n"
     ]
    }
   ],
   "source": [
    "with open('TamilStopWords.txt', encoding=\"utf8\") as file:\n",
    "    stop_words_tamil = file.read()\n",
    "    \n",
    "print(stop_words_tamil)"
   ]
  },
  {
   "cell_type": "code",
   "execution_count": 17,
   "metadata": {},
   "outputs": [],
   "source": [
    "data=\"\"\"\"தமிழ் இலக்கியம் இரண்டாயிரம் ஆண்டுகளுக்கு மேலான தொடர்ச்சி கொண்ட உலகின் சிறந்த இலக்கியங்களில் ஒன்று. வாழ்வின் பல்வேறு கூறுகளை தமிழ் இலக்கியங்கள் இயம்புகின்றன. தமிழ் இலக்கியத்தில் வெண்பா, குறள், புதுக்கவிதை, கட்டுரை, பழமொழி, தொண்ணூற்றாறு வகை சிற்றிலக்கியங்கள் என பல வடிவங்கள் உள்ளன. தமிழில் வாய்மொழி இலக்கியங்களும் முக்கிய இடம் வகிக்கின்றன.\"\"\"\n"
   ]
  },
  {
   "cell_type": "code",
   "execution_count": 18,
   "metadata": {},
   "outputs": [],
   "source": [
    "token = []\n",
    "for t in indic_tokenize.trivial_tokenize(data): \n",
    "    token.append(t)"
   ]
  },
  {
   "cell_type": "code",
   "execution_count": 19,
   "metadata": {},
   "outputs": [
    {
     "name": "stdout",
     "output_type": "stream",
     "text": [
      "Tokenized Words :\n",
      " \n",
      "['\"', 'தமிழ்', 'இலக்கியம்', 'இரண்டாயிரம்', 'ஆண்டுகளுக்கு', 'மேலான', 'தொடர்ச்சி', 'கொண்ட', 'உலகின்', 'சிறந்த', 'இலக்கியங்களில்', 'ஒன்று', '.', 'வாழ்வின்', 'பல்வேறு', 'கூறுகளை', 'தமிழ்', 'இலக்கியங்கள்', 'இயம்புகின்றன', '.', 'தமிழ்', 'இலக்கியத்தில்', 'வெண்பா', ',', 'குறள்', ',', 'புதுக்கவிதை', ',', 'கட்டுரை', ',', 'பழமொழி', ',', 'தொண்ணூற்றாறு', 'வகை', 'சிற்றிலக்கியங்கள்', 'என', 'பல', 'வடிவங்கள்', 'உள்ளன', '.', 'தமிழில்', 'வாய்மொழி', 'இலக்கியங்களும்', 'முக்கிய', 'இடம்', 'வகிக்கின்றன', '.']\n"
     ]
    }
   ],
   "source": [
    "print(\"Tokenized Words :\\n \")\n",
    "print(token)"
   ]
  },
  {
   "cell_type": "code",
   "execution_count": 20,
   "metadata": {},
   "outputs": [],
   "source": [
    "fil_sen = []\n",
    "fil_sw = []\n",
    "\n",
    "for t in indic_tokenize.trivial_tokenize(data): \n",
    "    if t not in stop_words_tamil:\n",
    "        fil_sen.append(t)\n",
    "    else:\n",
    "        fil_sw.append(t)"
   ]
  },
  {
   "cell_type": "code",
   "execution_count": 21,
   "metadata": {
    "scrolled": true
   },
   "outputs": [
    {
     "name": "stdout",
     "output_type": "stream",
     "text": [
      "['\"', 'தமிழ்', 'இலக்கியம்', 'இரண்டாயிரம்', 'ஆண்டுகளுக்கு', 'மேலான', 'தொடர்ச்சி', 'உலகின்', 'சிறந்த', 'இலக்கியங்களில்', 'ஒன்று', '.', 'வாழ்வின்', 'கூறுகளை', 'தமிழ்', 'இலக்கியங்கள்', 'இயம்புகின்றன', '.', 'தமிழ்', 'இலக்கியத்தில்', 'வெண்பா', ',', 'குறள்', ',', 'புதுக்கவிதை', ',', 'கட்டுரை', ',', 'பழமொழி', ',', 'தொண்ணூற்றாறு', 'வகை', 'சிற்றிலக்கியங்கள்', 'வடிவங்கள்', '.', 'தமிழில்', 'வாய்மொழி', 'இலக்கியங்களும்', 'முக்கிய', 'வகிக்கின்றன', '.']\n"
     ]
    }
   ],
   "source": [
    "print(fil_sen)"
   ]
  },
  {
   "cell_type": "code",
   "execution_count": 22,
   "metadata": {},
   "outputs": [
    {
     "name": "stdout",
     "output_type": "stream",
     "text": [
      "Removed Stop Words :\n",
      " \n",
      "['கொண்ட', 'பல்வேறு', 'என', 'பல', 'உள்ளன', 'இடம்']\n"
     ]
    }
   ],
   "source": [
    "print(\"Removed Stop Words :\\n \")\n",
    "print(fil_sw)"
   ]
  },
  {
   "cell_type": "code",
   "execution_count": 23,
   "metadata": {},
   "outputs": [
    {
     "name": "stdout",
     "output_type": "stream",
     "text": [
      "Number of Words including StopWords :  47\n",
      "Number of Words excluding StopWords :  41\n",
      "Total number of Stop Words Excluded :  6\n"
     ]
    }
   ],
   "source": [
    "print(\"Number of Words including StopWords : \" ,len(token))\n",
    "print(\"Number of Words excluding StopWords : \" ,len(fil_sen))\n",
    "print(\"Total number of Stop Words Excluded : \" , len(fil_sw))"
   ]
  },
  {
   "cell_type": "markdown",
   "metadata": {},
   "source": [
    "## Transliteration"
   ]
  },
  {
   "cell_type": "code",
   "execution_count": 24,
   "metadata": {},
   "outputs": [
    {
     "name": "stdout",
     "output_type": "stream",
     "text": [
      "Transliterate From Tamil to Hindi\n",
      "\n",
      "Input Text :  சிட்டுக்குருவி மனித குடியிருப்புடன் வலுவாகத் தொடர்புடையது ஆகும்\n",
      "output Text :  चिट्टुक्कुरुवि मऩित कुटियिरुप्पुटऩ् वलुवाकत् तॊटर्पुटैयतु आकुम्\n"
     ]
    }
   ],
   "source": [
    "from indicnlp.transliterate.unicode_transliterate import UnicodeIndicTransliterator\n",
    "\n",
    "input_text = 'சிட்டுக்குருவி மனித குடியிருப்புடன் வலுவாகத் தொடர்புடையது ஆகும்'\n",
    "ta_hi_text = (UnicodeIndicTransliterator.transliterate(input_text,\"ta\",\"hi\"))\n",
    "\n",
    "print(\"Transliterate From Tamil to Hindi\\n\")\n",
    "print(\"Input Text : \" , input_text)\n",
    "print(\"output Text : \", ta_hi_text)"
   ]
  },
  {
   "cell_type": "code",
   "execution_count": 25,
   "metadata": {},
   "outputs": [
    {
     "name": "stdout",
     "output_type": "stream",
     "text": [
      "Transliterate From Hindi to Tamil\n",
      "\n",
      "Input Text :  चिट्टुक्कुरुवि मऩित कुटियिरुप्पुटऩ् वलुवाकत् तॊटर्पुटैयतु आकुम्\n",
      "output Text :  சிட்டுக்குருவி மனித குடியிருப்புடன் வலுவாகத் தொடர்புடையது ஆகும்\n"
     ]
    }
   ],
   "source": [
    "from indicnlp.transliterate.unicode_transliterate import UnicodeIndicTransliterator\n",
    "\n",
    "input_text=ta_hi_text\n",
    "hi_ta_text = (UnicodeIndicTransliterator.transliterate(input_text,\"hi\",\"ta\"))\n",
    "\n",
    "print(\"Transliterate From Hindi to Tamil\\n\")\n",
    "print(\"Input Text : \" , input_text)\n",
    "print(\"output Text : \", hi_ta_text)"
   ]
  },
  {
   "cell_type": "code",
   "execution_count": 26,
   "metadata": {},
   "outputs": [
    {
     "name": "stdout",
     "output_type": "stream",
     "text": [
      "chiTTukkuruvi ma*nita kuTiyiruppuTa*n valuvaakat t.oTarpuTaiyatu aakum\n",
      "Transliterate From Hindi to Tamil\n",
      "\n",
      "Input Text :  சிட்டுக்குருவி மனித குடியிருப்புடன் வலுவாகத் தொடர்புடையது ஆகும்\n",
      "output Text :  சிட்டுக்குருவி மனித குடியிருப்புடன் வலுவாகத் தொடர்புடையது ஆகும்\n"
     ]
    }
   ],
   "source": [
    "from indicnlp.transliterate.unicode_transliterate import ItransTransliterator\n",
    "\n",
    "input_text = 'சிட்டுக்குருவி மனித குடியிருப்புடன் வலுவாகத் தொடர்புடையது ஆகும்'\n",
    "lang='ta'\n",
    "\n",
    "print(ItransTransliterator.to_itrans(input_text,lang))\n",
    "\n",
    "print(\"Transliterate From Hindi to Tamil\\n\")\n",
    "print(\"Input Text : \" , input_text)\n",
    "print(\"output Text : \", hi_ta_text)"
   ]
  },
  {
   "cell_type": "markdown",
   "metadata": {},
   "source": [
    "## Translation Options"
   ]
  },
  {
   "cell_type": "code",
   "execution_count": 27,
   "metadata": {},
   "outputs": [],
   "source": [
    "text ='சிட்டுக்குருவி மனித குடியிருப்புடன் வலுவாகத் தொடர்புடையது ஆகும்ி'## StopWords - தமிழ்"
   ]
  },
  {
   "cell_type": "code",
   "execution_count": 28,
   "metadata": {},
   "outputs": [
    {
     "data": {
      "text/plain": [
       "'ta'"
      ]
     },
     "execution_count": 28,
     "metadata": {},
     "output_type": "execute_result"
    }
   ],
   "source": [
    "from textblob import TextBlob\n",
    "txt = TextBlob(text)\n",
    "# Can detect language\n",
    "txt.detect_language()"
   ]
  },
  {
   "cell_type": "code",
   "execution_count": 29,
   "metadata": {},
   "outputs": [
    {
     "name": "stdout",
     "output_type": "stream",
     "text": [
      "The sparrow is strongly associated with human habitation\n"
     ]
    }
   ],
   "source": [
    "# Language Translation also available in TextBlob\n",
    "ta_eng_text = txt.translate(from_lang='ta', to ='en')\n",
    "print(ta_eng_text)"
   ]
  },
  {
   "cell_type": "code",
   "execution_count": 30,
   "metadata": {},
   "outputs": [
    {
     "name": "stdout",
     "output_type": "stream",
     "text": [
      "குருவி மனித வாழ்விடத்துடன் வலுவாக தொடர்புடையது\n"
     ]
    }
   ],
   "source": [
    "txt = ta_eng_text\n",
    "# Language Translation also available in TextBlob\n",
    "print(txt.translate(from_lang='en', to ='ta'))"
   ]
  }
 ],
 "metadata": {
  "kernelspec": {
   "display_name": "Python 3",
   "language": "python",
   "name": "python3"
  },
  "language_info": {
   "codemirror_mode": {
    "name": "ipython",
    "version": 3
   },
   "file_extension": ".py",
   "mimetype": "text/x-python",
   "name": "python",
   "nbconvert_exporter": "python",
   "pygments_lexer": "ipython3",
   "version": "3.6.10"
  }
 },
 "nbformat": 4,
 "nbformat_minor": 4
}
